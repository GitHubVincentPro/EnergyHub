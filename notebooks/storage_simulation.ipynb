{
 "cells": [
  {
   "cell_type": "code",
   "execution_count": null,
   "metadata": {},
   "outputs": [],
   "source": [
    "from models.storage_manager import BatteryManager\n",
    "\n",
    "battery = BatteryManager(10) # Capacité de 10 kWh\n",
    "battery.run_simulation(data)\n",
    "\n",
    "print(battery.charge) # Vérifier l'état final"
   ]
  }
 ],
 "metadata": {
  "language_info": {
   "name": "python"
  },
  "orig_nbformat": 4
 },
 "nbformat": 4,
 "nbformat_minor": 2
}
