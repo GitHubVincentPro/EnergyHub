{
 "cells": [
  {
   "cell_type": "code",
   "execution_count": null,
   "metadata": {},
   "outputs": [],
   "source": [
    "```python\n",
    "from models import build_rnn_model, build_cnn_model\n",
    "\n",
    "# Load data\n",
    "x_train, y_train, x_test, y_test = load_solar_data()\n",
    "\n",
    "# Train RNN model\n",
    "rnn = build_rnn_model()\n",
    "rnn.compile(optimizer='adam', loss='mae')\n",
    "rnn.fit(x_train, y_train)\n",
    "\n",
    "# Train CNN model\n",
    "cnn = build_cnn_model()\n",
    "cnn.compile(optimizer='adam', loss='mae')\n",
    "cnn.fit(x_train, y_train)\n",
    "\n",
    "# Evaluate models\n",
    "evaluate_model(rnn, x_test, y_test)\n",
    "evaluate_model(cnn, x_test, y_test)\n",
    "```"
   ]
  }
 ],
 "metadata": {
  "language_info": {
   "name": "python"
  },
  "orig_nbformat": 4
 },
 "nbformat": 4,
 "nbformat_minor": 2
}
