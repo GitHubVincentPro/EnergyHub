{
 "cells": [
  {
   "cell_type": "code",
   "execution_count": null,
   "metadata": {},
   "outputs": [],
   "source": [
    "import pandas as pd\n",
    "from models.forecasting_models import train_linear_regression\n",
    "\n",
    "data = pd.read_csv('../data/consumption_formatted.csv')\n",
    "\n",
    "X = data[['weather','hour']]\n",
    "y = data['consumption']\n",
    "\n",
    "lr = train_linear_regression(X, y)\n",
    "\n",
    "forecast = forecast_consumption(lr, test_data)\n",
    "\n",
    "# Evaluer la qualité de la prévision\n",
    "from sklearn.metrics import mean_absolute_error\n",
    "mae = mean_absolute_error(y_test, forecast)"
   ]
  }
 ],
 "metadata": {
  "language_info": {
   "name": "python"
  },
  "orig_nbformat": 4
 },
 "nbformat": 4,
 "nbformat_minor": 2
}
