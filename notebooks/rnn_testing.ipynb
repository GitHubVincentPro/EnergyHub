{
 "cells": [
  {
   "cell_type": "code",
   "execution_count": null,
   "metadata": {},
   "outputs": [],
   "source": [
    "```python\n",
    "from models import build_rnn, train\n",
    "\n",
    "X, y = load_solar_data()\n",
    "model = build_rnn()\n",
    "train(model, X, y)\n",
    "\n",
    "forecast = model.predict(X_test)\n",
    "plot_results(forecast, y_test)\n",
    "```"
   ]
  }
 ],
 "metadata": {
  "language_info": {
   "name": "python"
  },
  "orig_nbformat": 4
 },
 "nbformat": 4,
 "nbformat_minor": 2
}
