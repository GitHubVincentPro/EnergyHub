{
 "cells": [
  {
   "cell_type": "code",
   "execution_count": null,
   "metadata": {},
   "outputs": [],
   "source": [
    "```python\n",
    "from data_sources import *\n",
    "\n",
    "weather_df = load_weather_data()\n",
    "print(weather_df.head())\n",
    "\n",
    "solar_df = load_solar_production()\n",
    "print(solar_df.describe())\n",
    "\n",
    "customer_dfs = load_customer_load()\n",
    "print(list(customer_dfs.keys()))\n",
    "```"
   ]
  }
 ],
 "metadata": {
  "language_info": {
   "name": "python"
  },
  "orig_nbformat": 4
 },
 "nbformat": 4,
 "nbformat_minor": 2
}
