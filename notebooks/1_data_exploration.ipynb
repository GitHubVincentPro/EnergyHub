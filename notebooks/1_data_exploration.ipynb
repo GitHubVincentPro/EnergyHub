{
 "cells": [
  {
   "cell_type": "code",
   "execution_count": null,
   "metadata": {},
   "outputs": [],
   "source": [
    "```python\n",
    "# Importation des données\n",
    "import pandas as pd\n",
    "\n",
    "# Exploration visuelle\n",
    "%matplotlib inline\n",
    "df.hist()\n",
    "df.corr()\n",
    "```"
   ]
  }
 ],
 "metadata": {
  "language_info": {
   "name": "python"
  },
  "orig_nbformat": 4
 },
 "nbformat": 4,
 "nbformat_minor": 2
}
