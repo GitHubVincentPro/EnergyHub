{
 "cells": [
  {
   "cell_type": "code",
   "execution_count": null,
   "metadata": {},
   "outputs": [],
   "source": [
    "```python\n",
    "# Extraction de nouvelles variables\n",
    "df['new_feature'] = df['col1'] + df['col2']\n",
    "\n",
    "# Décomposition en composantes principales\n",
    "from sklearn.decomposition import PCA\n",
    "```"
   ]
  }
 ],
 "metadata": {
  "language_info": {
   "name": "python"
  },
  "orig_nbformat": 4
 },
 "nbformat": 4,
 "nbformat_minor": 2
}
