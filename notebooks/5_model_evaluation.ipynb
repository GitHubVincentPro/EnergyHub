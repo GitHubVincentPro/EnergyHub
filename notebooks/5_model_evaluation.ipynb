{
 "cells": [
  {
   "cell_type": "code",
   "execution_count": null,
   "metadata": {},
   "outputs": [],
   "source": [
    "```python\n",
    "# Evaluation sur le jeu de test\n",
    "from models import evaluate_models\n",
    "\n",
    "# Courbes ROC / PR\n",
    "from sklearn.metrics import roc_curve\n",
    "```"
   ]
  }
 ],
 "metadata": {
  "language_info": {
   "name": "python"
  },
  "orig_nbformat": 4
 },
 "nbformat": 4,
 "nbformat_minor": 2
}
