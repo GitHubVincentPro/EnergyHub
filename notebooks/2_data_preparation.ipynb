{
 "cells": [
  {
   "cell_type": "code",
   "execution_count": null,
   "metadata": {},
   "outputs": [],
   "source": [
    "```python\n",
    "# Nettoyage\n",
    "df.dropna()\n",
    "\n",
    "# Codage des variables catégorielles\n",
    "from sklearn.preprocessing import LabelEncoder\n",
    "```"
   ]
  }
 ],
 "metadata": {
  "language_info": {
   "name": "python"
  },
  "orig_nbformat": 4
 },
 "nbformat": 4,
 "nbformat_minor": 2
}
