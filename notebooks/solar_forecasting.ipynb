{
 "cells": [
  {
   "cell_type": "code",
   "execution_count": null,
   "metadata": {},
   "outputs": [],
   "source": [
    "```python\n",
    "# notebooks/solar_forecasting.ipynb\n",
    "\n",
    "import pandas as pd\n",
    "from sklearn.preprocessing import MinMaxScaler\n",
    "from models.forecasting_models import LSTMModel\n",
    "\n",
    "data = pd.read_csv('data/solar_production.csv')\n",
    "scaler = MinMaxScaler()\n",
    "scaled_data = scaler.fit_transform(data)\n",
    "\n",
    "...\n",
    "\n",
    "model = LSTMModel()\n",
    "model.fit(x_train, y_train)\n",
    "loss = model.evaluate(x_test, y_test)\n",
    "```\n",
    "\n",
    "# Route Flask de prédiction solaire\n",
    "\n",
    "```python\n",
    "# app/api.py\n",
    "\n",
    "@app.route('/predict')\n",
    "def predict():\n",
    "data = request.json\n",
    "forecast = LSTMModel().predict(data)\n",
    "return jsonify(forecast)\n",
    "```\n"
   ]
  }
 ],
 "metadata": {
  "language_info": {
   "name": "python"
  },
  "orig_nbformat": 4
 },
 "nbformat": 4,
 "nbformat_minor": 2
}
